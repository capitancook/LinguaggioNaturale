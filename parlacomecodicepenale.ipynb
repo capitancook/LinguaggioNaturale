{
 "cells": [
  {
   "cell_type": "markdown",
   "metadata": {},
   "source": [
    "<a href=\"https://colab.research.google.com/github/capitanio/linguaggio-naturale/blob/master/Linguaggio naturale A.ipynb\"><img align=\"left\" src=\"https://colab.research.google.com/assets/colab-badge.svg\" alt=\"Open in Colab\" title=\"Open and Execute in Google Colaboratory\"></a>"
   ]
  },
  {
   "cell_type": "markdown",
   "metadata": {},
   "source": [
    "# modello di Markov\n",
    "Chiediamo alla nostra AI di imparare uno stile e creare frasi in base a questo stile imparato"
   ]
  },
  {
   "cell_type": "code",
   "execution_count": 1,
   "metadata": {},
   "outputs": [],
   "source": [
    "import markovify"
   ]
  },
  {
   "cell_type": "markdown",
   "metadata": {},
   "source": [
    "Vediamo un corpus di giurisprudenza.\n",
    "Facciamo imparare il \"Codice di Procedura Penale\" alla nostra AI."
   ]
  },
  {
   "cell_type": "code",
   "execution_count": 1,
   "metadata": {},
   "outputs": [
    {
     "name": "stderr",
     "output_type": "stream",
     "text": [
      "\"wget\" non � riconosciuto come comando interno o esterno,\n",
      " un programma eseguibile o un file batch.\n"
     ]
    }
   ],
   "source": [
    "# solo se usate COLAB per eseguire questo notebook dovete eseguire questa istruzione\n",
    "\n",
    "!wget \"https://github.com/capitanio/LinguaggioNaturale/blob/main/codice procedura penale.txt\"\n"
   ]
  },
  {
   "cell_type": "code",
   "execution_count": null,
   "metadata": {},
   "outputs": [],
   "source": [
    "\n",
    "\n",
    "# lettura del file\n",
    "with open(\"codice procedura penale.txt\") as f:\n",
    "    text = f.read()\n",
    "\n",
    "# addestramento del modello\n",
    "text_model = markovify.Text(text)"
   ]
  },
  {
   "cell_type": "markdown",
   "metadata": {},
   "source": [
    "Chiediamo alla nostra AI di generare 5 frasi usando lo stile imparato."
   ]
  },
  {
   "cell_type": "code",
   "execution_count": 3,
   "metadata": {},
   "outputs": [
    {
     "name": "stdout",
     "output_type": "stream",
     "text": [
      "Sequestro di corrispondenza sono inoltrati.\n",
      "\n",
      "L'ordinanza e la sostituzione delle misure per effetto di sospendere l'esecuzione della pena su richiesta 1.\n",
      "\n",
      "Sulla ricusazione di un vetro specchio unitamente ad un massimo di pena in misura non si applica l'articolo 489, comma 2.\n",
      "\n",
      "Esecuzione di altre misure cautelari, prevista dall'art.\n",
      "\n",
      "Entro due giorni dal ricevimento della raccomandata.\n",
      "\n"
     ]
    }
   ],
   "source": [
    "for i in range(5):\n",
    "    print(text_model.make_sentence())\n",
    "    print()"
   ]
  },
  {
   "cell_type": "code",
   "execution_count": 7,
   "metadata": {},
   "outputs": [
    {
     "name": "stdout",
     "output_type": "stream",
     "text": [
      "Il giudice procedente trasmette immediatamente alla corte medesima.\n",
      "51, come modificato dalla L. 11 agosto 2014, n.\n",
      "La proposizione del ricorso non sospende l'esecuzione del provvedimento.\n"
     ]
    }
   ],
   "source": [
    "for i in range(3):\n",
    "    print(text_model.make_short_sentence(80))"
   ]
  }
 ],
 "metadata": {
  "kernelspec": {
   "display_name": "Python 3.9.5 64-bit",
   "language": "python",
   "name": "python3"
  },
  "language_info": {
   "codemirror_mode": {
    "name": "ipython",
    "version": 3
   },
   "file_extension": ".py",
   "mimetype": "text/x-python",
   "name": "python",
   "nbconvert_exporter": "python",
   "pygments_lexer": "ipython3",
   "version": "3.9.5"
  },
  "orig_nbformat": 4,
  "vscode": {
   "interpreter": {
    "hash": "81794d4967e6c3204c66dcd87b604927b115b27c00565d3d43f05ba2f3a2cb0d"
   }
  }
 },
 "nbformat": 4,
 "nbformat_minor": 2
}
