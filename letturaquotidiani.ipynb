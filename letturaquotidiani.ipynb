{
 "cells": [
  {
   "cell_type": "markdown",
   "metadata": {},
   "source": [
    "<a href=\"https://colab.research.google.com/github/capitanio/linguaggio-naturale/blob/master/Linguaggio naturale A.ipynb\"><img align=\"left\" src=\"https://colab.research.google.com/assets/colab-badge.svg\" alt=\"Open in Colab\" title=\"Open and Execute in Google Colaboratory\"></a>"
   ]
  },
  {
   "cell_type": "markdown",
   "metadata": {},
   "source": [
    "# Elaborazione del linguaggio naturale\n",
    "\n",
    "## Lettura dei quotidiani\n",
    "\n",
    "Una semplice applicazione di web scraping applicata ai quotidiani\n"
   ]
  },
  {
   "cell_type": "markdown",
   "metadata": {},
   "source": [
    "# Leggiamo il \"giornale\"\n",
    "Prepariamo tutto il necessario"
   ]
  },
  {
   "cell_type": "code",
   "execution_count": 1,
   "metadata": {},
   "outputs": [
    {
     "name": "stdout",
     "output_type": "stream",
     "text": [
      "Collecting newspaper3k\n",
      "  Downloading newspaper3k-0.2.8-py3-none-any.whl (211 kB)\n",
      "     ---------------------------------------- 0.0/211.1 kB ? eta -:--:--\n",
      "     ----------- --------------------------- 61.4/211.1 kB 1.1 MB/s eta 0:00:01\n",
      "     ---------------------- --------------- 122.9/211.1 kB 1.2 MB/s eta 0:00:01\n",
      "     ---------------------- --------------- 122.9/211.1 kB 1.2 MB/s eta 0:00:01\n",
      "     ------------------------------------ - 204.8/211.1 kB 1.0 MB/s eta 0:00:01\n",
      "     -------------------------------------- 211.1/211.1 kB 1.1 MB/s eta 0:00:00\n",
      "Requirement already satisfied: beautifulsoup4>=4.4.1 in c:\\users\\lcapitanio\\appdata\\local\\packages\\pythonsoftwarefoundation.python.3.10_qbz5n2kfra8p0\\localcache\\local-packages\\python310\\site-packages (from newspaper3k) (4.12.2)\n",
      "Requirement already satisfied: Pillow>=3.3.0 in c:\\users\\lcapitanio\\appdata\\local\\packages\\pythonsoftwarefoundation.python.3.10_qbz5n2kfra8p0\\localcache\\local-packages\\python310\\site-packages (from newspaper3k) (10.1.0)\n",
      "Requirement already satisfied: PyYAML>=3.11 in c:\\users\\lcapitanio\\appdata\\local\\packages\\pythonsoftwarefoundation.python.3.10_qbz5n2kfra8p0\\localcache\\local-packages\\python310\\site-packages (from newspaper3k) (6.0.1)\n",
      "Collecting cssselect>=0.9.2 (from newspaper3k)\n",
      "  Downloading cssselect-1.2.0-py2.py3-none-any.whl (18 kB)\n",
      "Collecting lxml>=3.6.0 (from newspaper3k)\n",
      "  Downloading lxml-4.9.3-cp310-cp310-win_amd64.whl.metadata (3.9 kB)\n",
      "Collecting nltk>=3.2.1 (from newspaper3k)\n",
      "  Downloading nltk-3.8.1-py3-none-any.whl (1.5 MB)\n",
      "     ---------------------------------------- 0.0/1.5 MB ? eta -:--:--\n",
      "     - -------------------------------------- 0.1/1.5 MB 1.7 MB/s eta 0:00:01\n",
      "     ---- ----------------------------------- 0.2/1.5 MB 2.6 MB/s eta 0:00:01\n",
      "     ------ --------------------------------- 0.3/1.5 MB 2.3 MB/s eta 0:00:01\n",
      "     -------- ------------------------------- 0.3/1.5 MB 1.9 MB/s eta 0:00:01\n",
      "     ----------- ---------------------------- 0.5/1.5 MB 2.2 MB/s eta 0:00:01\n",
      "     -------------- ------------------------- 0.6/1.5 MB 2.1 MB/s eta 0:00:01\n",
      "     ------------------ --------------------- 0.7/1.5 MB 2.3 MB/s eta 0:00:01\n",
      "     ------------------- -------------------- 0.7/1.5 MB 2.1 MB/s eta 0:00:01\n",
      "     --------------------- ------------------ 0.8/1.5 MB 2.1 MB/s eta 0:00:01\n",
      "     ------------------------ --------------- 0.9/1.5 MB 2.1 MB/s eta 0:00:01\n",
      "     ---------------------------- ----------- 1.1/1.5 MB 2.1 MB/s eta 0:00:01\n",
      "     ------------------------------ --------- 1.2/1.5 MB 2.2 MB/s eta 0:00:01\n",
      "     --------------------------------- ------ 1.3/1.5 MB 2.2 MB/s eta 0:00:01\n",
      "     ------------------------------------ --- 1.4/1.5 MB 2.2 MB/s eta 0:00:01\n",
      "     ---------------------------------------  1.5/1.5 MB 2.2 MB/s eta 0:00:01\n",
      "     ---------------------------------------- 1.5/1.5 MB 2.1 MB/s eta 0:00:00\n",
      "Requirement already satisfied: requests>=2.10.0 in c:\\users\\lcapitanio\\appdata\\local\\packages\\pythonsoftwarefoundation.python.3.10_qbz5n2kfra8p0\\localcache\\local-packages\\python310\\site-packages (from newspaper3k) (2.31.0)\n",
      "Collecting feedparser>=5.2.1 (from newspaper3k)\n",
      "  Downloading feedparser-6.0.10-py3-none-any.whl (81 kB)\n",
      "     ---------------------------------------- 0.0/81.1 kB ? eta -:--:--\n",
      "     ---------------------------------------- 81.1/81.1 kB 2.3 MB/s eta 0:00:00\n",
      "Collecting tldextract>=2.0.1 (from newspaper3k)\n",
      "  Downloading tldextract-5.1.1-py3-none-any.whl.metadata (11 kB)\n",
      "Collecting feedfinder2>=0.0.4 (from newspaper3k)\n",
      "  Downloading feedfinder2-0.0.4.tar.gz (3.3 kB)\n",
      "  Installing build dependencies: started\n",
      "  Installing build dependencies: finished with status 'done'\n",
      "  Getting requirements to build wheel: started\n",
      "  Getting requirements to build wheel: finished with status 'done'\n",
      "  Preparing metadata (pyproject.toml): started\n",
      "  Preparing metadata (pyproject.toml): finished with status 'done'\n",
      "Collecting jieba3k>=0.35.1 (from newspaper3k)\n",
      "  Downloading jieba3k-0.35.1.zip (7.4 MB)\n",
      "     ---------------------------------------- 0.0/7.4 MB ? eta -:--:--\n",
      "     ---------------------------------------- 0.1/7.4 MB 1.5 MB/s eta 0:00:05\n",
      "     - -------------------------------------- 0.2/7.4 MB 2.3 MB/s eta 0:00:04\n",
      "     - -------------------------------------- 0.3/7.4 MB 2.1 MB/s eta 0:00:04\n",
      "     -- ------------------------------------- 0.4/7.4 MB 2.1 MB/s eta 0:00:04\n",
      "     -- ------------------------------------- 0.5/7.4 MB 2.3 MB/s eta 0:00:04\n",
      "     -- ------------------------------------- 0.5/7.4 MB 2.0 MB/s eta 0:00:04\n",
      "     --- ------------------------------------ 0.6/7.4 MB 2.0 MB/s eta 0:00:04\n",
      "     --- ------------------------------------ 0.7/7.4 MB 2.0 MB/s eta 0:00:04\n",
      "     ---- ----------------------------------- 0.9/7.4 MB 2.2 MB/s eta 0:00:04\n",
      "     ----- ---------------------------------- 1.0/7.4 MB 2.2 MB/s eta 0:00:03\n",
      "     ----- ---------------------------------- 1.0/7.4 MB 2.2 MB/s eta 0:00:03\n",
      "     ----- ---------------------------------- 1.0/7.4 MB 2.2 MB/s eta 0:00:03\n",
      "     ----- ---------------------------------- 1.1/7.4 MB 1.8 MB/s eta 0:00:04\n",
      "     ------ --------------------------------- 1.2/7.4 MB 1.8 MB/s eta 0:00:04\n",
      "     ------- -------------------------------- 1.3/7.4 MB 1.9 MB/s eta 0:00:04\n",
      "     ------- -------------------------------- 1.4/7.4 MB 1.9 MB/s eta 0:00:04\n",
      "     -------- ------------------------------- 1.5/7.4 MB 1.9 MB/s eta 0:00:04\n",
      "     --------- ------------------------------ 1.7/7.4 MB 2.1 MB/s eta 0:00:03\n",
      "     --------- ------------------------------ 1.7/7.4 MB 2.1 MB/s eta 0:00:03\n",
      "     --------- ------------------------------ 1.7/7.4 MB 1.9 MB/s eta 0:00:04\n",
      "     --------- ------------------------------ 1.8/7.4 MB 1.9 MB/s eta 0:00:03\n",
      "     ---------- ----------------------------- 2.0/7.4 MB 1.9 MB/s eta 0:00:03\n",
      "     ----------- ---------------------------- 2.1/7.4 MB 2.0 MB/s eta 0:00:03\n",
      "     ------------ --------------------------- 2.3/7.4 MB 2.0 MB/s eta 0:00:03\n",
      "     ------------ --------------------------- 2.4/7.4 MB 2.0 MB/s eta 0:00:03\n",
      "     ------------- -------------------------- 2.5/7.4 MB 2.1 MB/s eta 0:00:03\n",
      "     ------------- -------------------------- 2.6/7.4 MB 2.1 MB/s eta 0:00:03\n",
      "     -------------- ------------------------- 2.7/7.4 MB 2.1 MB/s eta 0:00:03\n",
      "     --------------- ------------------------ 2.8/7.4 MB 2.1 MB/s eta 0:00:03\n",
      "     ---------------- ----------------------- 3.0/7.4 MB 2.1 MB/s eta 0:00:03\n",
      "     ---------------- ----------------------- 3.1/7.4 MB 2.1 MB/s eta 0:00:03\n",
      "     ----------------- ---------------------- 3.2/7.4 MB 2.1 MB/s eta 0:00:02\n",
      "     ----------------- ---------------------- 3.3/7.4 MB 2.2 MB/s eta 0:00:02\n",
      "     ------------------ --------------------- 3.4/7.4 MB 2.1 MB/s eta 0:00:02\n",
      "     ------------------ --------------------- 3.5/7.4 MB 2.1 MB/s eta 0:00:02\n",
      "     ------------------ --------------------- 3.5/7.4 MB 2.1 MB/s eta 0:00:02\n",
      "     ------------------ --------------------- 3.5/7.4 MB 2.1 MB/s eta 0:00:02\n",
      "     ------------------ --------------------- 3.5/7.4 MB 2.1 MB/s eta 0:00:02\n",
      "     ------------------ --------------------- 3.5/7.4 MB 2.1 MB/s eta 0:00:02\n",
      "     ------------------- -------------------- 3.6/7.4 MB 1.9 MB/s eta 0:00:02\n",
      "     -------------------- ------------------- 3.8/7.4 MB 2.0 MB/s eta 0:00:02\n",
      "     -------------------- ------------------- 3.8/7.4 MB 2.0 MB/s eta 0:00:02\n",
      "     --------------------- ------------------ 4.0/7.4 MB 2.0 MB/s eta 0:00:02\n",
      "     --------------------- ------------------ 4.0/7.4 MB 2.0 MB/s eta 0:00:02\n",
      "     --------------------- ------------------ 4.0/7.4 MB 1.9 MB/s eta 0:00:02\n",
      "     ---------------------- ----------------- 4.1/7.4 MB 1.9 MB/s eta 0:00:02\n",
      "     ---------------------- ----------------- 4.2/7.4 MB 1.9 MB/s eta 0:00:02\n",
      "     ---------------------- ----------------- 4.3/7.4 MB 1.9 MB/s eta 0:00:02\n",
      "     ----------------------- ---------------- 4.3/7.4 MB 1.9 MB/s eta 0:00:02\n",
      "     ------------------------ --------------- 4.5/7.4 MB 1.9 MB/s eta 0:00:02\n",
      "     ------------------------ --------------- 4.6/7.4 MB 1.9 MB/s eta 0:00:02\n",
      "     ------------------------- -------------- 4.7/7.4 MB 1.9 MB/s eta 0:00:02\n",
      "     ------------------------- -------------- 4.8/7.4 MB 1.9 MB/s eta 0:00:02\n",
      "     -------------------------- ------------- 4.8/7.4 MB 1.9 MB/s eta 0:00:02\n",
      "     -------------------------- ------------- 4.9/7.4 MB 1.9 MB/s eta 0:00:02\n",
      "     -------------------------- ------------- 5.0/7.4 MB 1.9 MB/s eta 0:00:02\n",
      "     --------------------------- ------------ 5.2/7.4 MB 1.9 MB/s eta 0:00:02\n",
      "     ---------------------------- ----------- 5.2/7.4 MB 1.9 MB/s eta 0:00:02\n",
      "     ---------------------------- ----------- 5.3/7.4 MB 1.9 MB/s eta 0:00:02\n",
      "     ----------------------------- ---------- 5.4/7.4 MB 1.9 MB/s eta 0:00:02\n",
      "     ----------------------------- ---------- 5.5/7.4 MB 1.9 MB/s eta 0:00:01\n",
      "     ------------------------------ --------- 5.7/7.4 MB 2.0 MB/s eta 0:00:01\n",
      "     ------------------------------- -------- 5.8/7.4 MB 2.0 MB/s eta 0:00:01\n",
      "     ------------------------------- -------- 5.9/7.4 MB 2.0 MB/s eta 0:00:01\n",
      "     -------------------------------- ------- 6.0/7.4 MB 2.0 MB/s eta 0:00:01\n",
      "     -------------------------------- ------- 6.1/7.4 MB 2.0 MB/s eta 0:00:01\n",
      "     -------------------------------- ------- 6.1/7.4 MB 2.0 MB/s eta 0:00:01\n",
      "     --------------------------------- ------ 6.3/7.4 MB 2.0 MB/s eta 0:00:01\n",
      "     --------------------------------- ------ 6.3/7.4 MB 2.0 MB/s eta 0:00:01\n",
      "     --------------------------------- ------ 6.3/7.4 MB 2.0 MB/s eta 0:00:01\n",
      "     --------------------------------- ------ 6.3/7.4 MB 2.0 MB/s eta 0:00:01\n",
      "     ---------------------------------- ----- 6.4/7.4 MB 1.9 MB/s eta 0:00:01\n",
      "     ----------------------------------- ---- 6.6/7.4 MB 1.9 MB/s eta 0:00:01\n",
      "     ------------------------------------ --- 6.7/7.4 MB 1.9 MB/s eta 0:00:01\n",
      "     ------------------------------------ --- 6.8/7.4 MB 2.0 MB/s eta 0:00:01\n",
      "     ------------------------------------ --- 6.8/7.4 MB 2.0 MB/s eta 0:00:01\n",
      "     ------------------------------------- -- 6.9/7.4 MB 1.9 MB/s eta 0:00:01\n",
      "     ------------------------------------- -- 7.0/7.4 MB 1.9 MB/s eta 0:00:01\n",
      "     -------------------------------------- - 7.2/7.4 MB 1.9 MB/s eta 0:00:01\n",
      "     ---------------------------------------  7.3/7.4 MB 2.0 MB/s eta 0:00:01\n",
      "     ---------------------------------------  7.4/7.4 MB 2.0 MB/s eta 0:00:01\n",
      "     ---------------------------------------- 7.4/7.4 MB 2.0 MB/s eta 0:00:00\n",
      "  Installing build dependencies: started\n",
      "  Installing build dependencies: finished with status 'done'\n",
      "  Getting requirements to build wheel: started\n",
      "  Getting requirements to build wheel: finished with status 'done'\n",
      "  Preparing metadata (pyproject.toml): started\n",
      "  Preparing metadata (pyproject.toml): finished with status 'done'\n",
      "Requirement already satisfied: python-dateutil>=2.5.3 in c:\\users\\lcapitanio\\appdata\\local\\packages\\pythonsoftwarefoundation.python.3.10_qbz5n2kfra8p0\\localcache\\local-packages\\python310\\site-packages (from newspaper3k) (2.8.2)\n",
      "Collecting tinysegmenter==0.3 (from newspaper3k)\n",
      "  Downloading tinysegmenter-0.3.tar.gz (16 kB)\n",
      "  Installing build dependencies: started\n",
      "  Installing build dependencies: finished with status 'done'\n",
      "  Getting requirements to build wheel: started\n",
      "  Getting requirements to build wheel: finished with status 'done'\n",
      "  Preparing metadata (pyproject.toml): started\n",
      "  Preparing metadata (pyproject.toml): finished with status 'done'\n",
      "Requirement already satisfied: soupsieve>1.2 in c:\\users\\lcapitanio\\appdata\\local\\packages\\pythonsoftwarefoundation.python.3.10_qbz5n2kfra8p0\\localcache\\local-packages\\python310\\site-packages (from beautifulsoup4>=4.4.1->newspaper3k) (2.5)\n",
      "Requirement already satisfied: six in c:\\users\\lcapitanio\\appdata\\local\\packages\\pythonsoftwarefoundation.python.3.10_qbz5n2kfra8p0\\localcache\\local-packages\\python310\\site-packages (from feedfinder2>=0.0.4->newspaper3k) (1.16.0)\n",
      "Collecting sgmllib3k (from feedparser>=5.2.1->newspaper3k)\n",
      "  Downloading sgmllib3k-1.0.0.tar.gz (5.8 kB)\n",
      "  Installing build dependencies: started\n",
      "  Installing build dependencies: finished with status 'done'\n",
      "  Getting requirements to build wheel: started\n",
      "  Getting requirements to build wheel: finished with status 'done'\n",
      "  Preparing metadata (pyproject.toml): started\n",
      "  Preparing metadata (pyproject.toml): finished with status 'done'\n",
      "Collecting click (from nltk>=3.2.1->newspaper3k)\n",
      "  Downloading click-8.1.7-py3-none-any.whl.metadata (3.0 kB)\n",
      "Collecting joblib (from nltk>=3.2.1->newspaper3k)\n",
      "  Downloading joblib-1.3.2-py3-none-any.whl.metadata (5.4 kB)\n",
      "Collecting regex>=2021.8.3 (from nltk>=3.2.1->newspaper3k)\n",
      "  Downloading regex-2023.10.3-cp310-cp310-win_amd64.whl.metadata (41 kB)\n",
      "     ---------------------------------------- 0.0/42.0 kB ? eta -:--:--\n",
      "     ---------------------------------------- 42.0/42.0 kB 2.1 MB/s eta 0:00:00\n",
      "Requirement already satisfied: tqdm in c:\\users\\lcapitanio\\appdata\\local\\packages\\pythonsoftwarefoundation.python.3.10_qbz5n2kfra8p0\\localcache\\local-packages\\python310\\site-packages (from nltk>=3.2.1->newspaper3k) (4.66.1)\n",
      "Requirement already satisfied: charset-normalizer<4,>=2 in c:\\users\\lcapitanio\\appdata\\local\\packages\\pythonsoftwarefoundation.python.3.10_qbz5n2kfra8p0\\localcache\\local-packages\\python310\\site-packages (from requests>=2.10.0->newspaper3k) (3.3.2)\n",
      "Requirement already satisfied: idna<4,>=2.5 in c:\\users\\lcapitanio\\appdata\\local\\packages\\pythonsoftwarefoundation.python.3.10_qbz5n2kfra8p0\\localcache\\local-packages\\python310\\site-packages (from requests>=2.10.0->newspaper3k) (3.4)\n",
      "Requirement already satisfied: urllib3<3,>=1.21.1 in c:\\users\\lcapitanio\\appdata\\local\\packages\\pythonsoftwarefoundation.python.3.10_qbz5n2kfra8p0\\localcache\\local-packages\\python310\\site-packages (from requests>=2.10.0->newspaper3k) (2.1.0)\n",
      "Requirement already satisfied: certifi>=2017.4.17 in c:\\users\\lcapitanio\\appdata\\local\\packages\\pythonsoftwarefoundation.python.3.10_qbz5n2kfra8p0\\localcache\\local-packages\\python310\\site-packages (from requests>=2.10.0->newspaper3k) (2023.7.22)\n",
      "Collecting requests-file>=1.4 (from tldextract>=2.0.1->newspaper3k)\n",
      "  Downloading requests_file-1.5.1-py2.py3-none-any.whl (3.7 kB)\n",
      "Requirement already satisfied: filelock>=3.0.8 in c:\\users\\lcapitanio\\appdata\\local\\packages\\pythonsoftwarefoundation.python.3.10_qbz5n2kfra8p0\\localcache\\local-packages\\python310\\site-packages (from tldextract>=2.0.1->newspaper3k) (3.13.1)\n",
      "Requirement already satisfied: colorama in c:\\users\\lcapitanio\\appdata\\local\\packages\\pythonsoftwarefoundation.python.3.10_qbz5n2kfra8p0\\localcache\\local-packages\\python310\\site-packages (from click->nltk>=3.2.1->newspaper3k) (0.4.6)\n",
      "Downloading lxml-4.9.3-cp310-cp310-win_amd64.whl (3.8 MB)\n",
      "   ---------------------------------------- 0.0/3.8 MB ? eta -:--:--\n",
      "    --------------------------------------- 0.1/3.8 MB 1.7 MB/s eta 0:00:03\n",
      "   - -------------------------------------- 0.2/3.8 MB 2.1 MB/s eta 0:00:02\n",
      "   --- ------------------------------------ 0.3/3.8 MB 2.2 MB/s eta 0:00:02\n",
      "   --- ------------------------------------ 0.4/3.8 MB 2.1 MB/s eta 0:00:02\n",
      "   ----- ---------------------------------- 0.5/3.8 MB 2.3 MB/s eta 0:00:02\n",
      "   ------ --------------------------------- 0.6/3.8 MB 2.3 MB/s eta 0:00:02\n",
      "   ------- -------------------------------- 0.7/3.8 MB 2.2 MB/s eta 0:00:02\n",
      "   -------- ------------------------------- 0.8/3.8 MB 2.3 MB/s eta 0:00:02\n",
      "   ---------- ----------------------------- 1.0/3.8 MB 2.3 MB/s eta 0:00:02\n",
      "   ----------- ---------------------------- 1.1/3.8 MB 2.4 MB/s eta 0:00:02\n",
      "   ------------ --------------------------- 1.1/3.8 MB 2.3 MB/s eta 0:00:02\n",
      "   ------------ --------------------------- 1.2/3.8 MB 2.3 MB/s eta 0:00:02\n",
      "   -------------- ------------------------- 1.4/3.8 MB 2.3 MB/s eta 0:00:02\n",
      "   --------------- ------------------------ 1.5/3.8 MB 2.4 MB/s eta 0:00:01\n",
      "   ---------------- ----------------------- 1.5/3.8 MB 2.3 MB/s eta 0:00:01\n",
      "   ----------------- ---------------------- 1.7/3.8 MB 2.3 MB/s eta 0:00:01\n",
      "   ------------------- -------------------- 1.8/3.8 MB 2.4 MB/s eta 0:00:01\n",
      "   -------------------- ------------------- 1.9/3.8 MB 2.4 MB/s eta 0:00:01\n",
      "   --------------------- ------------------ 2.0/3.8 MB 2.3 MB/s eta 0:00:01\n",
      "   --------------------- ------------------ 2.0/3.8 MB 2.3 MB/s eta 0:00:01\n",
      "   ----------------------- ---------------- 2.3/3.8 MB 2.3 MB/s eta 0:00:01\n",
      "   ------------------------ --------------- 2.3/3.8 MB 2.3 MB/s eta 0:00:01\n",
      "   ------------------------ --------------- 2.3/3.8 MB 2.2 MB/s eta 0:00:01\n",
      "   ------------------------- -------------- 2.5/3.8 MB 2.2 MB/s eta 0:00:01\n",
      "   --------------------------- ------------ 2.6/3.8 MB 2.3 MB/s eta 0:00:01\n",
      "   ----------------------------- ---------- 2.7/3.8 MB 2.3 MB/s eta 0:00:01\n",
      "   ----------------------------- ---------- 2.8/3.8 MB 2.3 MB/s eta 0:00:01\n",
      "   ------------------------------- -------- 3.0/3.8 MB 2.3 MB/s eta 0:00:01\n",
      "   -------------------------------- ------- 3.1/3.8 MB 2.3 MB/s eta 0:00:01\n",
      "   --------------------------------- ------ 3.1/3.8 MB 2.3 MB/s eta 0:00:01\n",
      "   ---------------------------------- ----- 3.3/3.8 MB 2.3 MB/s eta 0:00:01\n",
      "   ----------------------------------- ---- 3.4/3.8 MB 2.3 MB/s eta 0:00:01\n",
      "   ------------------------------------ --- 3.5/3.8 MB 2.3 MB/s eta 0:00:01\n",
      "   ------------------------------------- -- 3.6/3.8 MB 2.3 MB/s eta 0:00:01\n",
      "   ---------------------------------------  3.7/3.8 MB 2.3 MB/s eta 0:00:01\n",
      "   ---------------------------------------- 3.8/3.8 MB 2.3 MB/s eta 0:00:00\n",
      "Downloading tldextract-5.1.1-py3-none-any.whl (97 kB)\n",
      "   ---------------------------------------- 0.0/97.7 kB ? eta -:--:--\n",
      "   ------------------------------------- -- 92.2/97.7 kB 2.6 MB/s eta 0:00:01\n",
      "   ---------------------------------------- 97.7/97.7 kB 2.8 MB/s eta 0:00:00\n",
      "Downloading regex-2023.10.3-cp310-cp310-win_amd64.whl (269 kB)\n",
      "   ---------------------------------------- 0.0/269.6 kB ? eta -:--:--\n",
      "   ---------------- ----------------------- 112.6/269.6 kB 3.3 MB/s eta 0:00:01\n",
      "   ---------------- ----------------------- 112.6/269.6 kB 3.3 MB/s eta 0:00:01\n",
      "   ---------------------------------------  266.2/269.6 kB 2.0 MB/s eta 0:00:01\n",
      "   ---------------------------------------- 269.6/269.6 kB 1.7 MB/s eta 0:00:00\n",
      "Downloading click-8.1.7-py3-none-any.whl (97 kB)\n",
      "   ---------------------------------------- 0.0/97.9 kB ? eta -:--:--\n",
      "   ---------------------------------------- 97.9/97.9 kB 2.8 MB/s eta 0:00:00\n",
      "Downloading joblib-1.3.2-py3-none-any.whl (302 kB)\n",
      "   ---------------------------------------- 0.0/302.2 kB ? eta -:--:--\n",
      "   ------------------ --------------------- 143.4/302.2 kB 8.9 MB/s eta 0:00:01\n",
      "   --------------------------------- ------ 256.0/302.2 kB 4.0 MB/s eta 0:00:01\n",
      "   ---------------------------------------- 302.2/302.2 kB 2.7 MB/s eta 0:00:00\n",
      "Building wheels for collected packages: tinysegmenter, feedfinder2, jieba3k, sgmllib3k\n",
      "  Building wheel for tinysegmenter (pyproject.toml): started\n",
      "  Building wheel for tinysegmenter (pyproject.toml): finished with status 'done'\n",
      "  Created wheel for tinysegmenter: filename=tinysegmenter-0.3-py3-none-any.whl size=13568 sha256=b8326150ae0e8420f34ee0556d7a27f460d1a5044e5ebcf94d3d567040a95d94\n",
      "  Stored in directory: c:\\users\\lcapitanio\\appdata\\local\\pip\\cache\\wheels\\c8\\d6\\6c\\384f58df48c00b9a31d638005143b5b3ac62c3d25fb1447f23\n",
      "  Building wheel for feedfinder2 (pyproject.toml): started\n",
      "  Building wheel for feedfinder2 (pyproject.toml): finished with status 'done'\n",
      "  Created wheel for feedfinder2: filename=feedfinder2-0.0.4-py3-none-any.whl size=3359 sha256=91833ca0ba47c534b071ac457f1a99d7da8fc7163324f3ad6051d2409c8cce42\n",
      "  Stored in directory: c:\\users\\lcapitanio\\appdata\\local\\pip\\cache\\wheels\\97\\02\\e7\\a1ff1760e12bdbaab0ac824fae5c1bc933e41c4ccd6a8f8edb\n",
      "  Building wheel for jieba3k (pyproject.toml): started\n",
      "  Building wheel for jieba3k (pyproject.toml): finished with status 'done'\n",
      "  Created wheel for jieba3k: filename=jieba3k-0.35.1-py3-none-any.whl size=7398387 sha256=9feebc1080f97f3104bd39e02ec61e95c0b693ae8bb759ef849c89346e61f665\n",
      "  Stored in directory: c:\\users\\lcapitanio\\appdata\\local\\pip\\cache\\wheels\\7a\\c4\\0c\\12a9a314ecac499456c4c3b2fcc2f635a3b45a39dfbd240299\n",
      "  Building wheel for sgmllib3k (pyproject.toml): started\n",
      "  Building wheel for sgmllib3k (pyproject.toml): finished with status 'done'\n",
      "  Created wheel for sgmllib3k: filename=sgmllib3k-1.0.0-py3-none-any.whl size=6061 sha256=237b8adb0c555f380f5aba00da941610307246f9ea3b5d65b1976aec65b7b108\n",
      "  Stored in directory: c:\\users\\lcapitanio\\appdata\\local\\pip\\cache\\wheels\\f0\\69\\93\\a47e9d621be168e9e33c7ce60524393c0b92ae83cf6c6e89c5\n",
      "Successfully built tinysegmenter feedfinder2 jieba3k sgmllib3k\n",
      "Installing collected packages: tinysegmenter, sgmllib3k, jieba3k, regex, lxml, joblib, feedparser, cssselect, click, requests-file, nltk, feedfinder2, tldextract, newspaper3k\n",
      "Successfully installed click-8.1.7 cssselect-1.2.0 feedfinder2-0.0.4 feedparser-6.0.10 jieba3k-0.35.1 joblib-1.3.2 lxml-4.9.3 newspaper3k-0.2.8 nltk-3.8.1 regex-2023.10.3 requests-file-1.5.1 sgmllib3k-1.0.0 tinysegmenter-0.3 tldextract-5.1.1\n"
     ]
    },
    {
     "name": "stderr",
     "output_type": "stream",
     "text": [
      "  WARNING: The script nltk.exe is installed in 'C:\\Users\\lcapitanio\\AppData\\Local\\Packages\\PythonSoftwareFoundation.Python.3.10_qbz5n2kfra8p0\\LocalCache\\local-packages\\Python310\\Scripts' which is not on PATH.\n",
      "  Consider adding this directory to PATH or, if you prefer to suppress this warning, use --no-warn-script-location.\n",
      "  WARNING: The script tldextract.exe is installed in 'C:\\Users\\lcapitanio\\AppData\\Local\\Packages\\PythonSoftwareFoundation.Python.3.10_qbz5n2kfra8p0\\LocalCache\\local-packages\\Python310\\Scripts' which is not on PATH.\n",
      "  Consider adding this directory to PATH or, if you prefer to suppress this warning, use --no-warn-script-location.\n"
     ]
    }
   ],
   "source": [
    "!pip install newspaper3k \n",
    "# decommentare e eseguire se la libreria non è installata sulla macchina"
   ]
  },
  {
   "cell_type": "code",
   "execution_count": 2,
   "metadata": {},
   "outputs": [],
   "source": [
    "from newspaper import Article\n",
    "article = Article('https://www.repubblica.it/il-gusto/2022/11/25/news/la_bagna_cauda_piace_a_tutti_da_asti_alleuropa_a_new_york-375987028/')\n",
    "article.download()\n",
    "article.parse()\n",
    "article.nlp()"
   ]
  },
  {
   "cell_type": "markdown",
   "metadata": {},
   "source": [
    "CHi sono gli autori?"
   ]
  },
  {
   "cell_type": "code",
   "execution_count": 3,
   "metadata": {},
   "outputs": [
    {
     "data": {
      "text/plain": [
       "['Di Martina Tartaglino',\n",
       " 'Di Sergio Miravalle',\n",
       " 'Di Lara De Luna',\n",
       " 'Di Lara Loreti']"
      ]
     },
     "execution_count": 3,
     "metadata": {},
     "output_type": "execute_result"
    }
   ],
   "source": [
    "\n",
    "article.authors\n"
   ]
  },
  {
   "cell_type": "markdown",
   "metadata": {},
   "source": [
    "Quali sono le parole chiavi dell'articolo?"
   ]
  },
  {
   "cell_type": "code",
   "execution_count": 4,
   "metadata": {},
   "outputs": [
    {
     "data": {
      "text/plain": [
       "['che',\n",
       " 'piemontesi',\n",
       " 'passando',\n",
       " 'della',\n",
       " 'piace',\n",
       " 'da',\n",
       " 'bagna',\n",
       " 'york',\n",
       " 'shanghai',\n",
       " 'tutti',\n",
       " 'asti',\n",
       " 'di',\n",
       " 'la',\n",
       " 'nel',\n",
       " 'cauda',\n",
       " 'anche',\n",
       " 'il']"
      ]
     },
     "execution_count": 4,
     "metadata": {},
     "output_type": "execute_result"
    }
   ],
   "source": [
    "article.keywords"
   ]
  },
  {
   "cell_type": "markdown",
   "metadata": {},
   "source": [
    "Leggiamo il testo dell'articolo:"
   ]
  },
  {
   "cell_type": "code",
   "execution_count": 5,
   "metadata": {},
   "outputs": [
    {
     "name": "stdout",
     "output_type": "stream",
     "text": [
      "Non solo Piemonte. La bagna cauda arriva nel cuore dell’Europa, nella Grande Mela e in una delle metropoli cinesi più importanti e internazionali. Infatti nel fine settimana del Bagna Cauda Day (25, 26, 27 novembre e poi 2,3,4 dicembre), l’evento che l’Associazione culturale Astigiani organizza da dieci anni ad Asti, in Italia e nel mondo, oltre ai 150 locali piemontesi che aderiscono all’iniziativa (compresi cinque punti Eataly in tutto il Piemonte e a Bologna) ci sono anche noti ristoranti italiani all’estero. E se nelle passate edizioni il mitico intingolo a base di aglio, olio e acciughe era stato celebrato persino a Tonga o alle Hawaii, per non dire in Argentina dove le comunità di origine italiana usano prepararlo di frequente, quest’anno la bagna cauda compare sulle lavagnette del Facciola wine bar di Berlino, dell’Osteria Carlina di New York e del Da Marco Restaurant di Shanghai organizzato dai Piemontesi nel mondo.\n",
      "\n",
      "Bagna Cauda Day, il tutorial dello chef: ecco come si cucina il piatto tradizionale piemontese\n",
      "\n",
      "Un pretesto per ampliare la propria offerta gastronomica e far conoscere ai propri clienti un rito conviviale dai sapori unici e poi per accontentare i tanti piemontesi che vivono in quelle tre città, senz’altro cosmopolite, ma dove non deve essere facile trovare fujot, cardo gobbo di Nizza Monferrato, topinambur, peperoni di Carmagnola o della Motta, solo per citare alcuni ingredienti molto amati dai “bagnacauders”. «Siamo una vineria con piccola cucina e specializzati in taglieri e antipasti freddi» racconta Aurora Facciola del Facciola wine bar di Berlino, aperto a gennaio 2015 e presto diventato uno dei wine-bar dalla carta più interessante della capitale tedesca e che accompagnerà aIla bagna cauda la Barbera Pi-Cit La Montagnetta. «Chi ci chiede la bagna cauda sono principalmente i piemontesi all’estero, persone che hanno avuto modo di assaggiarla in Piemonte oppure amici divertiti dall´idea di \"profumare di aglio per giorni» spiega Facciola. «Per un discorso di approccio a un pubblico piú internazionale la proporremo classica ma anche vegana, nessuno ci spari!» scherza l’imprenditrice. Infatti stanno spopolando le varianti che vedono la bagna cauda cucinata con i ceci o dei particolari tipi di alghe amare che riescono bene a sopperire all’inconfondibile sapore delle acciughe. Al Facciola wine bar poi la bagna cauda rimane un punto fermo nel menu perché proposta sui taglieri con polenta oppure con i peperoni.\n",
      "\n",
      "Moreno Cerutti è invece titolare insieme alla moglie Christina di Osteria Carlina, nel West Village (e presto anche a Tribeca) locale noto agli amanti della movida newyorkese e aperto poco dopo la pandemia e anche socio e general manager del San Carlo Osteria Piemonte a Soho, inaugurato sette anni fa. “Entrambi i ristoranti sono di cucina italiana focalizzata sul sul Nord italia con un accento speciale sul Piemonte, essendo io torinese con influenze cuneesi” spiega. “In generale sia le salse sia l’aglio sono due elementi già presenti a NY nelle cucine trasversali e apprezzati dal pubblico locale e internazionale. Declinare quindi la nostra bagna cauda tradizionale sulla scena locale è sicuramente vincente e fattibilissimo. La maggioranza della nostra clientela è curiosa delle tradizioni enogastronomiche autentiche, se poi sono esse anche buone e gustose, meglio”. All’Osteria Carlina il Bagna Cauda Day si farà con tre portate, dice Cerutti: “La prima come antipastino caldo, non solo sui classici peperoni ma anche accoppiata a delle simpatiche polpettine saporite di bollito misto aromatizzato. La seconda nella sua più tradizionale scena: verdure crude e bollite con elegante ma tradizionale vasetto riscaldato. La terza esagerando un po' come elemento decorativo (ma non solo) sui nostri tajarin fatti in casa”. Per il resto la bagna cauda è già una presenza fissa del menu: “L’abbiamo già tra gli antipasti sulle capesante scottate e come contorno sui arrosto. E va molto bene…”. Questo fine settimana poi verrà proposta in abbinamento a vini del territorio torinese.\n",
      "\n",
      "(foto @bagnacaudaday.it)\n",
      "\n",
      "Anche a Shanghai ci sarà l’opportunità di scoprire il rito conviviale della bagna cauda. Il Bagna Cauda Day in Cina lo organIzza l’associazione Piemontesi nel Mondo e questa volta trova casa nello storico ristorante “Da Marco” aperto dal 1999 dallo chef piemontese Marco Barbieri e specializzato in cucina italiana casalinga con un’attenta selezione degli ingredienti, un menu esteso con piatti tipici di tutte le regioni e una pizza autentica che da più di venti anni attrae tantissimi clienti e piace anche al palato cinese.\n",
      "\n",
      "“Considerando che la ricetta originale della bagna cauda richiede il 50% di aglio e il 50% di acciughe è apprezzata anche da un pubblico locale che, oltremodo, lo vede come un “hot-pot”. Gli Italiani che già la conoscono molto bene e uniscono la cena ad un momento d’incontro tra amici. Sono incuriositi dalla semplicità della ricetta e dal sapore forte abbinato a ottimi vini Piemontesi” spiegano Marco Barbieri e Massimo Marin, vicepresidente di Piemontesi nel mondo.\n",
      "\n",
      "“Qui da noi verrà proposta in modo classico nel “fujot”, ricetta originale tradizionale “semaforo rosso”, contornata da verdure di stagione sia crude che cotte, carne all’albese, ovetto fresco e brodo di gallina quindi nessuna variante speciale. Essendo una ricetta stagionale verrà aggiunta agli special e/o ad eventi dedicati ove sia possibile servire la bagna cauda fatta al momento”.\n"
     ]
    }
   ],
   "source": [
    "print(article.text)"
   ]
  },
  {
   "cell_type": "markdown",
   "metadata": {},
   "source": [
    "Possiamo anche chiedere il riassunto dell'articolo"
   ]
  },
  {
   "cell_type": "code",
   "execution_count": 6,
   "metadata": {},
   "outputs": [
    {
     "name": "stdout",
     "output_type": "stream",
     "text": [
      "La bagna cauda arriva nel cuore dell’Europa, nella Grande Mela e in una delle metropoli cinesi più importanti e internazionali.\n",
      "Al Facciola wine bar poi la bagna cauda rimane un punto fermo nel menu perché proposta sui taglieri con polenta oppure con i peperoni.\n",
      "Per il resto la bagna cauda è già una presenza fissa del menu: “L’abbiamo già tra gli antipasti sulle capesante scottate e come contorno sui arrosto.\n",
      "(foto @bagnacaudaday.it)Anche a Shanghai ci sarà l’opportunità di scoprire il rito conviviale della bagna cauda.\n",
      "Essendo una ricetta stagionale verrà aggiunta agli special e/o ad eventi dedicati ove sia possibile servire la bagna cauda fatta al momento”.\n"
     ]
    }
   ],
   "source": [
    "print(article.summary)"
   ]
  },
  {
   "cell_type": "markdown",
   "metadata": {},
   "source": [
    "Possiamo tokenizzare in frasi il sommario dell'articolo"
   ]
  },
  {
   "cell_type": "code",
   "execution_count": 9,
   "metadata": {},
   "outputs": [],
   "source": [
    "import nltk\n",
    "from nltk.tokenize import sent_tokenize"
   ]
  },
  {
   "cell_type": "code",
   "execution_count": 10,
   "metadata": {},
   "outputs": [
    {
     "name": "stdout",
     "output_type": "stream",
     "text": [
      "Output data (via Sentence Tokenizer):\n",
      "\tLa bagna cauda arriva nel cuore dell’Europa, nella Grande Mela e in una delle metropoli cinesi più importanti e internazionali. |\n",
      "\tAl Facciola wine bar poi la bagna cauda rimane un punto fermo nel menu perché proposta sui taglieri con polenta oppure con i peperoni. |\n",
      "\tPer il resto la bagna cauda è già una presenza fissa del menu: “L’abbiamo già tra gli antipasti sulle capesante scottate e come contorno sui arrosto. |\n",
      "\t(foto @bagnacaudaday.it)Anche a Shanghai ci sarà l’opportunità di scoprire il rito conviviale della bagna cauda. |\n",
      "\tEssendo una ricetta stagionale verrà aggiunta agli special e/o ad eventi dedicati ove sia possibile servire la bagna cauda fatta al momento”. |\n"
     ]
    }
   ],
   "source": [
    "sentence_tokenizer_output = sent_tokenize(article.summary)\n",
    "print('Output data (via Sentence Tokenizer):') \n",
    "for token in sentence_tokenizer_output:    \n",
    "    print('\\t{}'.format(token),\"|\")"
   ]
  }
 ],
 "metadata": {
  "kernelspec": {
   "display_name": "Python 3.10.11 64-bit (microsoft store)",
   "language": "python",
   "name": "python3"
  },
  "language_info": {
   "codemirror_mode": {
    "name": "ipython",
    "version": 3
   },
   "file_extension": ".py",
   "mimetype": "text/x-python",
   "name": "python",
   "nbconvert_exporter": "python",
   "pygments_lexer": "ipython3",
   "version": "3.10.11"
  },
  "orig_nbformat": 4,
  "vscode": {
   "interpreter": {
    "hash": "8b777693d6eb9c5db5f44b0873b756b81181178533692d02b0d2c373d32b3107"
   }
  }
 },
 "nbformat": 4,
 "nbformat_minor": 2
}
