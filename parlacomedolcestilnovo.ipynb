{
 "cells": [
  {
   "cell_type": "markdown",
   "metadata": {},
   "source": [
    "<a href=\"https://colab.research.google.com/github/capitanio/linguaggio-naturale/blob/master/Linguaggio naturale A.ipynb\"><img align=\"left\" src=\"https://colab.research.google.com/assets/colab-badge.svg\" alt=\"Open in Colab\" title=\"Open and Execute in Google Colaboratory\"></a>"
   ]
  },
  {
   "cell_type": "markdown",
   "metadata": {},
   "source": [
    "# modello di Markov\n",
    "Chiediamo alla nostra AI di imparare uno stile e creare frasi in base a questo stile imparato"
   ]
  },
  {
   "cell_type": "code",
   "execution_count": 1,
   "metadata": {},
   "outputs": [],
   "source": [
    "import markovify"
   ]
  },
  {
   "cell_type": "markdown",
   "metadata": {},
   "source": [
    "Facciamo imparare la \"Divina Commedia\" alla nostra AI.\n",
    "Il testo della Divina Commedia lo potete trovare in rete su molti siti legali :)"
   ]
  },
  {
   "cell_type": "code",
   "execution_count": null,
   "metadata": {},
   "outputs": [],
   "source": [
    "# solo se usate COLAB per eseguire questo notebook dovete eseguire questa istruzione\n",
    "\n",
    "!wget . \"https://github.com/capitanio/LinguaggioNaturale/blob/main/divina commedia.txt\"\n"
   ]
  },
  {
   "cell_type": "code",
   "execution_count": 2,
   "metadata": {},
   "outputs": [],
   "source": [
    "\n",
    "# legge la Divina Commedia\n",
    "\n",
    "with open(\"divina commedia.txt\") as f:\n",
    "    text = f.read()\n",
    "\n",
    "# addestra il modello di Markov\n",
    "text_model = markovify.Text(text)\n"
   ]
  },
  {
   "cell_type": "markdown",
   "metadata": {},
   "source": [
    "Chiediamo alla nostra AI di generare 5 frasi usando lo stile imparato."
   ]
  },
  {
   "cell_type": "code",
   "execution_count": 3,
   "metadata": {},
   "outputs": [
    {
     "name": "stdout",
     "output_type": "stream",
     "text": [
      "L'acqua era buia assai piu` che non potean levar le lor bilance.\n",
      "\n",
      "Dinanzi a me l'accorto passo.\n",
      "\n",
      "Non sanza prima far grande aggirata, venimmo in su l'orribil soglia, ond'esta oltracotanza in voi s'alletta?\n",
      "\n",
      "Allor venimmo in parte ove non e` che sua colpa sortille.\n",
      "\n",
      "Ahi quanto mi pareva sbigottito con la fronte com'avesse l'inferno a gran dispitto.\n",
      "\n"
     ]
    }
   ],
   "source": [
    "for i in range(5):\n",
    "    print(text_model.make_sentence())\n",
    "    print()"
   ]
  },
  {
   "cell_type": "markdown",
   "metadata": {},
   "source": [
    "Chiediamo alla nostra AI 3 frasi di non più di 80 caratteri."
   ]
  },
  {
   "cell_type": "code",
   "execution_count": 4,
   "metadata": {},
   "outputs": [
    {
     "name": "stdout",
     "output_type": "stream",
     "text": [
      "Ed el mi disse: Che pur guate?\n",
      "Io non posso negar quel che ci vinse.\n",
      "Una montagna v'e` che gia` mai non resta, mena li spirti per diverse schiere.\n"
     ]
    }
   ],
   "source": [
    "for i in range(3):\n",
    "    print(text_model.make_short_sentence(80))"
   ]
  },
  {
   "cell_type": "markdown",
   "metadata": {},
   "source": [
    "Vediamo un corpus di giurisprudenza.\n",
    "Facciamo imparare il \"Codice di Procedura Penale\" alla nostra AI."
   ]
  },
  {
   "cell_type": "code",
   "execution_count": 16,
   "metadata": {},
   "outputs": [],
   "source": [
    "# lettura del file\n",
    "with open(\"codice procedura penale.txt\") as f:\n",
    "    text = f.read()\n",
    "\n",
    "# addestramento del modello\n",
    "text_model = markovify.Text(text)"
   ]
  },
  {
   "cell_type": "markdown",
   "metadata": {},
   "source": [
    "Chiediamo alla nostra AI di generare 5 frasi usando lo stile imparato."
   ]
  },
  {
   "cell_type": "code",
   "execution_count": 37,
   "metadata": {},
   "outputs": [
    {
     "name": "stdout",
     "output_type": "stream",
     "text": [
      "Assistenza al giudice incompetente 1.\n",
      "\n",
      "Con l'ordinanza che ha deciso in ordine all'applicazione della misura cautelare personale; in applicazione dell'art.\n",
      "\n",
      "La riunione e la direzione della discussione nei modi stabiliti dalle leggi di ordinamento giudiziario.\n",
      "\n",
      "Notificazioni urgenti a mezzo di raccomandata alla cancelleria del giudice al pubblico ministero deve esprimere il consenso, il giudice procede.\n",
      "\n",
      "L'udienza si svolge nelle forme ordinarie quando il programma di recupero nell'ambito di una sentenza penale di assoluzione 1.\n",
      "\n"
     ]
    }
   ],
   "source": [
    "for i in range(5):\n",
    "    print(text_model.make_sentence())\n",
    "    print()"
   ]
  },
  {
   "cell_type": "code",
   "execution_count": 27,
   "metadata": {},
   "outputs": [
    {
     "name": "stdout",
     "output_type": "stream",
     "text": [
      "Si applicano le disposizioni degli articoli 187 e 192, comma 3.\n",
      "Contro il decreto del pubblico ministero ne fa dare avviso alle parti private.\n",
      "Custodia delle cose sequestrate.\n"
     ]
    }
   ],
   "source": [
    "for i in range(3):\n",
    "    print(text_model.make_short_sentence(80))"
   ]
  }
 ],
 "metadata": {
  "kernelspec": {
   "display_name": "Python 3.9.5 64-bit",
   "language": "python",
   "name": "python3"
  },
  "language_info": {
   "codemirror_mode": {
    "name": "ipython",
    "version": 3
   },
   "file_extension": ".py",
   "mimetype": "text/x-python",
   "name": "python",
   "nbconvert_exporter": "python",
   "pygments_lexer": "ipython3",
   "version": "3.9.5"
  },
  "orig_nbformat": 4,
  "vscode": {
   "interpreter": {
    "hash": "81794d4967e6c3204c66dcd87b604927b115b27c00565d3d43f05ba2f3a2cb0d"
   }
  }
 },
 "nbformat": 4,
 "nbformat_minor": 2
}
