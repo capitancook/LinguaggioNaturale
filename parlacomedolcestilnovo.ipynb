{
 "cells": [
  {
   "cell_type": "markdown",
   "metadata": {},
   "source": [
    "<a href=\"https://colab.research.google.com/github/capitanio/linguaggio-naturale/blob/master/Linguaggio naturale A.ipynb\"><img align=\"left\" src=\"https://colab.research.google.com/assets/colab-badge.svg\" alt=\"Open in Colab\" title=\"Open and Execute in Google Colaboratory\"></a>"
   ]
  },
  {
   "cell_type": "markdown",
   "metadata": {},
   "source": [
    "# modello di Markov\n",
    "Chiediamo alla nostra AI di imparare uno stile e creare frasi in base a questo stile imparato"
   ]
  },
  {
   "cell_type": "code",
   "execution_count": 2,
   "metadata": {},
   "outputs": [
    {
     "name": "stdout",
     "output_type": "stream",
     "text": [
      "Collecting markovifyNote: you may need to restart the kernel to use updated packages.\n",
      "\n",
      "  Downloading markovify-0.9.4.tar.gz (27 kB)\n",
      "  Preparing metadata (setup.py): started\n",
      "  Preparing metadata (setup.py): finished with status 'done'\n",
      "Collecting unidecode\n",
      "  Downloading Unidecode-1.3.7-py3-none-any.whl (235 kB)\n",
      "     ---------------------------------------- 0.0/235.5 kB ? eta -:--:--\n",
      "     -------------------------------------- 235.5/235.5 kB 7.0 MB/s eta 0:00:00\n",
      "Building wheels for collected packages: markovify\n",
      "  Building wheel for markovify (setup.py): started\n",
      "  Building wheel for markovify (setup.py): finished with status 'done'\n",
      "  Created wheel for markovify: filename=markovify-0.9.4-py3-none-any.whl size=18650 sha256=754a63108cf22c43605a0e5975077a236d8d89102dbed0ab4ca2f1acae9f1219\n",
      "  Stored in directory: c:\\users\\lcapitanio\\appdata\\local\\pip\\cache\\wheels\\9c\\20\\eb\\1a3fb93f3132f2f9683e4efd834800f80c53aeddf50e84ae80\n",
      "Successfully built markovify\n",
      "Installing collected packages: unidecode, markovify\n",
      "Successfully installed markovify-0.9.4 unidecode-1.3.7\n"
     ]
    }
   ],
   "source": [
    "# !pip install markovify"
   ]
  },
  {
   "cell_type": "code",
   "execution_count": 3,
   "metadata": {},
   "outputs": [],
   "source": [
    "import markovify"
   ]
  },
  {
   "cell_type": "markdown",
   "metadata": {},
   "source": [
    "Facciamo imparare la \"Divina Commedia\" alla nostra AI.\n",
    "Il testo della Divina Commedia lo potete trovare in rete su molti siti legali :)"
   ]
  },
  {
   "cell_type": "code",
   "execution_count": 4,
   "metadata": {},
   "outputs": [
    {
     "name": "stderr",
     "output_type": "stream",
     "text": [
      "\"wget\" non � riconosciuto come comando interno o esterno,\n",
      " un programma eseguibile o un file batch.\n"
     ]
    }
   ],
   "source": [
    "# solo se usate COLAB per eseguire questo notebook dovete eseguire questa istruzione\n",
    "\n",
    "!wget \"https://github.com/capitanio/LinguaggioNaturale/blob/main/divina commedia.txt\"\n"
   ]
  },
  {
   "cell_type": "code",
   "execution_count": 5,
   "metadata": {},
   "outputs": [],
   "source": [
    "\n",
    "# legge la Divina Commedia\n",
    "\n",
    "with open(\"divina commedia.txt\") as f:\n",
    "    text = f.read()\n",
    "\n",
    "# addestra il modello di Markov\n",
    "text_model = markovify.Text(text)\n"
   ]
  },
  {
   "cell_type": "markdown",
   "metadata": {},
   "source": [
    "Chiediamo alla nostra AI di generare 5 frasi usando lo stile imparato."
   ]
  },
  {
   "cell_type": "code",
   "execution_count": 7,
   "metadata": {},
   "outputs": [
    {
     "name": "stdout",
     "output_type": "stream",
     "text": [
      "Non avean penne, ma di minor pena.\n",
      "\n",
      "Con quel furore e con la faccia ben con l'occhio cerco, vidi un centauro pien di spavento, per cui mori` la vergine cruda vide terra, nel mezzo del pantano, sanza coltura e d'abitanti nuda.\n",
      "\n",
      "Luogo e` la` giu` con l'occhio cerco, vidi un foco ch'emisperio di tenebre vincia.\n",
      "\n",
      "Lo fondo e` cupo si`, che non parlo` piu` verbo; e io etterno duro.\n",
      "\n",
      "Quali dal vento le gonfiate vele caggiono avvolte, poi che l'ardite femmine spietate tutti li altri dei.\n",
      "\n"
     ]
    }
   ],
   "source": [
    "for i in range(5):\n",
    "    print(text_model.make_sentence())\n",
    "    print()"
   ]
  },
  {
   "cell_type": "markdown",
   "metadata": {},
   "source": [
    "Chiediamo alla nostra AI 3 frasi di non più di 80 caratteri."
   ]
  },
  {
   "cell_type": "code",
   "execution_count": 8,
   "metadata": {},
   "outputs": [
    {
     "name": "stdout",
     "output_type": "stream",
     "text": [
      "Questi, l'orme di cui suo loco dicero` l'ordigno.\n",
      "Se tu ti cali, io non vi movete; ma l'un di lor, ma guarda e passa.\n",
      "Noi discendemmo il ponte da la coppa, con l'ali aperte e sovra i pie` leggero!\n"
     ]
    }
   ],
   "source": [
    "for i in range(3):\n",
    "    print(text_model.make_short_sentence(80))"
   ]
  }
 ],
 "metadata": {
  "kernelspec": {
   "display_name": "Python 3.9.5 64-bit",
   "language": "python",
   "name": "python3"
  },
  "language_info": {
   "codemirror_mode": {
    "name": "ipython",
    "version": 3
   },
   "file_extension": ".py",
   "mimetype": "text/x-python",
   "name": "python",
   "nbconvert_exporter": "python",
   "pygments_lexer": "ipython3",
   "version": "3.11.0"
  },
  "orig_nbformat": 4,
  "vscode": {
   "interpreter": {
    "hash": "81794d4967e6c3204c66dcd87b604927b115b27c00565d3d43f05ba2f3a2cb0d"
   }
  }
 },
 "nbformat": 4,
 "nbformat_minor": 2
}
